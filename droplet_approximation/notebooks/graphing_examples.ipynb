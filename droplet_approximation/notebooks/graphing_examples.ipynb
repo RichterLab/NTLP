{
 "cells": [
  {
   "cell_type": "code",
   "execution_count": null,
   "id": "772aafd7",
   "metadata": {},
   "outputs": [],
   "source": [
    "import heapq\n",
    "import multiprocessing\n",
    "import os\n",
    "\n",
    "import matplotlib.pyplot as plt\n",
    "from matplotlib import colors\n",
    "\n",
    "import numpy as np\n",
    "import torch\n",
    "import pandas as pd\n",
    "\n",
    "import pickle\n",
    "\n",
    "import droplet_approximation\n",
    "\n",
    "from scipy.integrate import solve_ivp"
   ]
  },
  {
   "cell_type": "markdown",
   "id": "0fc3a129-7846-44c3-9bc4-00afde1a55c2",
   "metadata": {},
   "source": [
    "# New Graphing Overview\n",
    "This notebook provides examples for working with the new graphing function in `analysis.py`. The four new functions are:\n",
    "1. `plot_droplet_size_temperatures`           - plots provided radius/temperature np array time series data\n",
    "2. `plot_droplet_size_temperatures_domain`    - plots BDF/iterative model solution for given droplet parameters\n",
    "3. `plot_droplet_size_temperatures_dataframe` - plots time series data for specified evaluations from a particle dataframe\n",
    "4. `plot_droplet_size_temperatures_scoring`   - plots time series data and deviations for a particle dataframe/score report"
   ]
  },
  {
   "cell_type": "markdown",
   "id": "1f138dab-bf5d-4597-b007-3d4603c1b25e",
   "metadata": {},
   "source": [
    "## Setup/Settings"
   ]
  },
  {
   "cell_type": "code",
   "execution_count": null,
   "id": "2bb50436",
   "metadata": {
    "editable": true,
    "slideshow": {
     "slide_type": ""
    },
    "tags": []
   },
   "outputs": [],
   "source": [
    "# Do NOT edit this cell. Instead, make any changes you want in the cell below it by setting\n",
    "# these variables.\n",
    "\n",
    "# Commit for each model\n",
    "current_SHA = \"79a3442545133bfe38cecf9b67ab928538842b23\"\n",
    "\n",
    "# Change this to fit wherever testing data is stored. TODO: update this to match particles exploration\n",
    "simulation_name = \"Pi Chamber 1way RH103\"\n",
    "particles_root  = \"/groups/drichte2/droplet_approximation/data/simulations/pi_chamber-1way-rh103/particles\"\n",
    "#particles_root  = \"../data/particles\"\n",
    "dirs_per_level  = 256\n",
    "\n",
    "model_path = \"/afs/crc.nd.edu/group/RichterLab/droplet_approximation/models/box-narrow_uniform_high_res-mlp_4layer-b=1024-lr=1e-3_halvingschedule-l2reg=1e-6_checkpoint.pt\"\n",
    "\n",
    "score_report_path = \"/groups/drichte2/droplet_approximation/data/analysis/tmp/scoring_report-pi_chamber_1way_rh103-be_vs_bdf_iterative.pkl\"\n"
   ]
  },
  {
   "cell_type": "code",
   "execution_count": null,
   "id": "9f3f4695-da4b-43a1-8843-3ffe4dffa569",
   "metadata": {},
   "outputs": [],
   "source": [
    "model = droplet_approximation.ResidualNet()\n",
    "param_list = droplet_approximation.load_model_checkpoint( model_path, model )"
   ]
  },
  {
   "cell_type": "code",
   "execution_count": null,
   "id": "c01ba1c9-cdd4-482c-b8de-4e940d763e40",
   "metadata": {},
   "outputs": [],
   "source": [
    "droplet_approximation.set_parameter_ranges(param_list[0])"
   ]
  },
  {
   "cell_type": "markdown",
   "id": "c9ed53a4-1aa7-4431-bb8b-12d2074c3b1d",
   "metadata": {},
   "source": [
    "## Graphing Particles Rolled from Domain"
   ]
  },
  {
   "cell_type": "code",
   "execution_count": null,
   "id": "278b2bae-5af3-45c9-8d9b-0d674a901cc5",
   "metadata": {},
   "outputs": [],
   "source": [
    "# Roll background parameters\n",
    "input_parameters = droplet_approximation.scale_droplet_parameters( np.random.uniform( -1, 1, 6 ) )\n",
    "input_parameters[3] = input_parameters[1] + 0.5"
   ]
  },
  {
   "cell_type": "markdown",
   "id": "b7c8ec98-61ff-4033-9931-eb0659cb22fb",
   "metadata": {},
   "source": [
    "### Graphing the Numpy Arrays directly\n",
    "\n",
    "`plot_droplet_size_temperature` allows us to directly graph data from numpy arrays.<br>\n",
    "By default, it will automatically generate comparison plots if there are two or more radius/temperature time series plotted."
   ]
  },
  {
   "cell_type": "code",
   "execution_count": null,
   "id": "69b3683a-98a8-4d2f-8771-82ec3c621867",
   "metadata": {},
   "outputs": [],
   "source": [
    "t_eval             = np.linspace(0.1, 10.0, 100)\n",
    "droplet_parameters = np.tile( input_parameters, (100, 1) )\n",
    "\n",
    "bdf_output         = droplet_approximation.do_iterative_bdf( droplet_parameters, t_eval )\n",
    "model_output       = droplet_approximation.do_iterative_inference( droplet_parameters, t_eval, model, \"cpu\" )"
   ]
  },
  {
   "cell_type": "code",
   "execution_count": null,
   "id": "c285ef66-20ee-492f-b75f-09d3980e7811",
   "metadata": {},
   "outputs": [],
   "source": [
    "# Example with just one time series\n",
    "size_temperatures = {\n",
    "    \"iterative bdf\": bdf_output\n",
    "}\n",
    "\n",
    "droplet_approximation.plot_droplet_size_temperatures( t_eval, size_temperatures ) "
   ]
  },
  {
   "cell_type": "code",
   "execution_count": null,
   "id": "bacf84a3-c24d-41a9-b582-84c895357208",
   "metadata": {},
   "outputs": [],
   "source": [
    "# Example with two\n",
    "size_temperatures = {\n",
    "    \"iterative bdf\": bdf_output,\n",
    "    \"mlp\": model_output\n",
    "}\n",
    "\n",
    "droplet_approximation.plot_droplet_size_temperatures( t_eval, size_temperatures ) "
   ]
  },
  {
   "cell_type": "markdown",
   "id": "6adcf5ce-cb19-492e-ac68-e95f895bf4c3",
   "metadata": {},
   "source": [
    "### Graph just the BDF solution\n",
    "To make things easier, there is a function `plot_droplet_size_temperature_domain` that takes in some droplet parameter array rolled from the input domain and integrates it out to `final_time` (defaults to `10` seconds)."
   ]
  },
  {
   "cell_type": "code",
   "execution_count": null,
   "id": "6a857ade-3b70-4c93-985d-69614b55af13",
   "metadata": {},
   "outputs": [],
   "source": [
    "# Graph just the truth value\n",
    "droplet_approximation.plot_droplet_size_temperatures_domain(input_parameters )"
   ]
  },
  {
   "cell_type": "markdown",
   "id": "81f8840e-9e32-40fe-855b-d7d336bfd02b",
   "metadata": {},
   "source": [
    "### Graph the BDF solution against the model\n",
    "If supplied a model, the function will evaluate the model as well, comparing the two solutions in the second row of plots.<br><br>\n",
    "In model evaluation mode, `dt` can be specified for `do_iterative_inference`. If this is not provided, the function uses the average of the log time scale as the default for `dt`."
   ]
  },
  {
   "cell_type": "code",
   "execution_count": null,
   "id": "6f37eed3-e082-49b0-902a-80e98c9bab68",
   "metadata": {},
   "outputs": [],
   "source": [
    "droplet_approximation.plot_droplet_size_temperatures_domain( input_parameters, model, dt=0.10 )"
   ]
  },
  {
   "cell_type": "markdown",
   "id": "94ccfe6c-30a1-4b13-b385-e3c5eba0c78d",
   "metadata": {},
   "source": [
    "## Graphing Particles from Trace Data"
   ]
  },
  {
   "cell_type": "code",
   "execution_count": null,
   "id": "cc7c52e1-0c13-4d4a-8b8a-01e1b6c6b624",
   "metadata": {},
   "outputs": [],
   "source": [
    "GRAPH_COUNT = 1\n",
    "\n",
    "ids_index = np.fromfile( particles_root + \"/particles.index\", dtype=np.int32 )\n",
    "target_particle_ids = np.random.choice( ids_index, GRAPH_COUNT )\n",
    "df = droplet_approximation.read_particles_data( particles_root, target_particle_ids, dirs_per_level, evaluations={\"bdf iterative\": \"bdf_iterative\"}, cold_threshold=284.0 )\n",
    "df"
   ]
  },
  {
   "cell_type": "markdown",
   "id": "e6aa4bd7-c0ed-4e1c-8410-d1aa35da6b2a",
   "metadata": {},
   "source": [
    "### Graphing Dataframe Evaluation Particles\n",
    "The interface only requires a row of a particles dataframe and the evaluation tags to plot.<br>\n",
    "To graph just one evaluation, one can supply just a string instead of a list. The following cell provides examples of both."
   ]
  },
  {
   "cell_type": "code",
   "execution_count": null,
   "id": "958dad6d",
   "metadata": {
    "scrolled": true
   },
   "outputs": [],
   "source": [
    "reference_tag = \"be\"\n",
    "comparison_tag = \"bdf iterative\"\n",
    "\n",
    "for particle_id in target_particle_ids:\n",
    "    particle_df      = df.loc[particle_id]\n",
    "    droplet_approximation.plot_droplet_size_temperatures_dataframe( particle_df, reference_tag )\n",
    "    droplet_approximation.plot_droplet_size_temperatures_dataframe( particle_df, [reference_tag, comparison_tag] )\n"
   ]
  },
  {
   "cell_type": "markdown",
   "id": "f6d27268-d294-409c-aad5-01feadbcf8fd",
   "metadata": {},
   "source": [
    "### Background parameters\n",
    "All of the new graphing functions accept an optional parameter `background_parameters`.<br>\n",
    "It is formatted as a dictionary between the label for the variable and its time series data.<br><br>\n",
    "These could be just about anything (other rows of the dataframe, be failures, CUSUM data, dydt data, etc.)"
   ]
  },
  {
   "cell_type": "code",
   "execution_count": null,
   "id": "519cfb78-45d4-4981-a665-1fa5af7746f2",
   "metadata": {},
   "outputs": [],
   "source": [
    "for particle_id in target_particle_ids:\n",
    "    particle_df    = df.loc[particle_id]\n",
    "\n",
    "    background_parameters = {\n",
    "        \"Relative Humidity (%)\": particle_df[\"relative humidities\"],\n",
    "        \"Particle/Air Temperature Delta (K)\":  particle_df[\"input be temperatures\"] - particle_df[\"air temperatures\"],\n",
    "        \"Salt Mass Ratio (m_s/m_w)\": particle_df[\"salt masses\"] / (1000*4/3*np.pi*particle_df[\"input be radii\"]**3)\n",
    "    }\n",
    "\n",
    "    droplet_approximation.plot_droplet_size_temperatures_dataframe( particle_df, [reference_tag, comparison_tag], background_parameters=background_parameters )"
   ]
  },
  {
   "cell_type": "markdown",
   "id": "b3e1b53c-804a-482c-a09f-6511c08872a5",
   "metadata": {},
   "source": [
    "### Score Report Graphing\n",
    "The last graphing function is `plot_droplet_size_temperature_scoring`. It accepts a particle dataframe and a scoring report. It graphs the comparison between the reference and comparison tags stored in the scoring report, adding labels for any deviations encountered."
   ]
  },
  {
   "cell_type": "code",
   "execution_count": null,
   "id": "c1020113-6881-4a99-a0da-9ca1fe19ef7f",
   "metadata": {},
   "outputs": [],
   "source": [
    "with open( score_report_path, \"rb\" ) as score_file:\n",
    "    score_report = pickle.load( score_file )"
   ]
  },
  {
   "cell_type": "code",
   "execution_count": null,
   "id": "c2699800-ce19-4040-b0e7-cb1e4acab11a",
   "metadata": {
    "scrolled": true
   },
   "outputs": [],
   "source": [
    "for particle_id in target_particle_ids:\n",
    "    droplet_approximation.plot_droplet_size_temperatures_scoring( particle_df, score_report )\n"
   ]
  },
  {
   "cell_type": "markdown",
   "id": "2a782a47-e7ec-452f-aa5b-2dc5d07d73de",
   "metadata": {},
   "source": [
    "### Title String\n",
    "All new graphing functions also have an optional keywork `title_string` which overrides the default title string for the plot. e.g.:"
   ]
  },
  {
   "cell_type": "code",
   "execution_count": null,
   "id": "d9c4e5ca-09a3-4e15-a2c0-a55f98507394",
   "metadata": {},
   "outputs": [],
   "source": [
    "for particle_id in target_particle_ids:\n",
    "    title_string = \"Comparison between {:s}/{:s} \\n On particle {:d} from trace {:s}\\n ppNRMSE: {:.4f} \\n SHA: {:s}\".format( reference_tag,\n",
    "                                                                                                                             comparison_tag,\n",
    "                                                                                                                             particle_id, \n",
    "                                                                                                                             simulation_name,\n",
    "                                                                                                                             score_report.per_particle_nrmse[ particle_id ],\n",
    "                                                                                                                             current_SHA )\n",
    "    droplet_approximation.plot_droplet_size_temperatures_scoring( particle_df, score_report, title_string=title_string )"
   ]
  }
 ],
 "metadata": {
  "kernelspec": {
   "display_name": "Python 3 (ipykernel)",
   "language": "python",
   "name": "python3"
  },
  "language_info": {
   "codemirror_mode": {
    "name": "ipython",
    "version": 3
   },
   "file_extension": ".py",
   "mimetype": "text/x-python",
   "name": "python",
   "nbconvert_exporter": "python",
   "pygments_lexer": "ipython3",
   "version": "3.13.3"
  }
 },
 "nbformat": 4,
 "nbformat_minor": 5
}
