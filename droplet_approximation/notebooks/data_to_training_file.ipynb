{
 "cells": [
  {
   "cell_type": "code",
   "execution_count": 35,
   "id": "a9798f47-4a57-43c0-99b3-0d6a6b9865c8",
   "metadata": {},
   "outputs": [],
   "source": [
    "import pandas as pd\n",
    "import numpy as np\n",
    "\n",
    "from droplet_approximation.analysis import *\n",
    "from droplet_approximation.data import *\n",
    "from scipy.special import expi"
   ]
  },
  {
   "cell_type": "code",
   "execution_count": 7,
   "id": "e86210be-1ae1-4c2a-b0e7-51ea3da7960b",
   "metadata": {},
   "outputs": [],
   "source": [
    "be_dump_path = \"../data/data_file_NTLP_uncoupled_30M.data\"\n",
    "output_data_path = \"../data/data_file_NTLP_uncoupled_30M_stripped.data\"\n",
    "verify_read_write = False"
   ]
  },
  {
   "cell_type": "code",
   "execution_count": 4,
   "id": "4b51c1c7-2214-440f-b89d-8ae0d91c4ca4",
   "metadata": {},
   "outputs": [],
   "source": [
    "df = read_NTLP_data(be_dump_path)"
   ]
  },
  {
   "cell_type": "code",
   "execution_count": 18,
   "id": "5e460f65-cc5e-4705-a5c6-c0af8a6de9f9",
   "metadata": {},
   "outputs": [],
   "source": [
    "\n",
    "\n",
    "temperature_range = [df[\"input temperature\"].quantile(0.00005),df[\"input temperature\"].quantile(0.99995)]\n",
    "radius_range = [1.99e-7, df[\"input radius\"].quantile(0.99995)]\n",
    "data = df.loc[(df[\"output temperature\"] > temperature_range[0]) & \n",
    "    (df[\"output temperature\"] < temperature_range[1]) & \n",
    "    (df[\"input temperature\"] > temperature_range[0]) & \n",
    "    (df[\"input temperature\"] < temperature_range[1]) &\n",
    "    (df[\"output radius\"] > radius_range[0]) & \n",
    "    (df[\"output radius\"] < radius_range[1]) & \n",
    "    (df[\"input radius\"] > radius_range[0]) & \n",
    "    (df[\"input radius\"] < radius_range[1]) & \n",
    "    (df[\"air density\"] == 1.0) & \n",
    "    (df[\"relative humidity\"] < 5.0)][[\"input radius\", \"input temperature\", \"salinity\", \"air temperature\", \"relative humidity\", \"air density\", \"integration time\", \"output radius\", \"output temperature\"]]"
   ]
  },
  {
   "cell_type": "code",
   "execution_count": 8,
   "id": "623c41c4-89e5-4f4c-8492-779ed4ce9ce9",
   "metadata": {},
   "outputs": [],
   "source": [
    "data.tofile(output_data_path)"
   ]
  }
 ],
 "metadata": {
  "kernelspec": {
   "display_name": "Python 3 (ipykernel)",
   "language": "python",
   "name": "python3"
  },
  "language_info": {
   "codemirror_mode": {
    "name": "ipython",
    "version": 3
   },
   "file_extension": ".py",
   "mimetype": "text/x-python",
   "name": "python",
   "nbconvert_exporter": "python",
   "pygments_lexer": "ipython3",
   "version": "3.13.3"
  }
 },
 "nbformat": 4,
 "nbformat_minor": 5
}
