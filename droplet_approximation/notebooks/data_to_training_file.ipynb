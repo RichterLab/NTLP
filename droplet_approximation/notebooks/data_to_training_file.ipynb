{
 "cells": [
  {
   "cell_type": "code",
   "execution_count": 16,
   "id": "a9798f47-4a57-43c0-99b3-0d6a6b9865c8",
   "metadata": {},
   "outputs": [],
   "source": [
    "import pandas as pd\n",
    "import numpy as np\n",
    "\n",
    "from droplet_approximation.analysis import *"
   ]
  },
  {
   "cell_type": "code",
   "execution_count": 2,
   "id": "e86210be-1ae1-4c2a-b0e7-51ea3da7960b",
   "metadata": {},
   "outputs": [],
   "source": [
    "be_dump_path = \"../data/data_file_NTLP_decoupled_400M.data\"\n",
    "output_data_path = \"../data/uncoupled_eval_data_stripped.data\"\n",
    "verify_read_write = False"
   ]
  },
  {
   "cell_type": "code",
   "execution_count": 3,
   "id": "83b17260-7213-48b3-9be4-24a6c1491de7",
   "metadata": {},
   "outputs": [],
   "source": [
    "df = read_NTLP_data(be_dump_path)"
   ]
  },
  {
   "cell_type": "code",
   "execution_count": null,
   "id": "5e460f65-cc5e-4705-a5c6-c0af8a6de9f9",
   "metadata": {},
   "outputs": [],
   "source": [
    "\n",
    "\n",
    "temperature_range = [df[\"input temperature\"].quantile(0.00005),df[\"input temperature\"].quantile(0.99995)]\n",
    "radius_range = [1.99e-7, df[\"input radius\"].quantile(0.99995)]\n",
    "\n",
    "data = df.loc[(df[\"output temperature\"] > temperature_range[0]) & (df[\"output temperature\"] < temperature_range[1]) & (df[\"input temperature\"] > temperature_range[0]) & (df[\"input temperature\"] < temperature_range[1]) & (df[\"output radius\"] < radius_range[1]) & (df[\"air density\"] == 1.0) & (df[\"relative humidity\"] < 5.0)][[\"input radius\", \"input temperature\", \"salinity\", \"air temperature\", \"relative humidity\", \"air density\", \"integration time\", \"output radius\", \"output temperature\"]].to_numpy(dtype=np.float32)\n"
   ]
  },
  {
   "cell_type": "code",
   "execution_count": null,
   "id": "623c41c4-89e5-4f4c-8492-779ed4ce9ce9",
   "metadata": {},
   "outputs": [],
   "source": [
    "data.tofile(output_data_path)"
   ]
  }
 ],
 "metadata": {
  "kernelspec": {
   "display_name": "Python 3 (ipykernel)",
   "language": "python",
   "name": "python3"
  },
  "language_info": {
   "codemirror_mode": {
    "name": "ipython",
    "version": 3
   },
   "file_extension": ".py",
   "mimetype": "text/x-python",
   "name": "python",
   "nbconvert_exporter": "python",
   "pygments_lexer": "ipython3",
   "version": "3.13.3"
  }
 },
 "nbformat": 4,
 "nbformat_minor": 5
}
